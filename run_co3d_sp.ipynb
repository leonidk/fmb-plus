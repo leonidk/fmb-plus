{
 "cells": [
  {
   "cell_type": "markdown",
   "metadata": {},
   "source": [
    "# Run CO3D Sequence (2 parameter)"
   ]
  },
  {
   "cell_type": "code",
   "execution_count": null,
   "metadata": {},
   "outputs": [],
   "source": [
    "import sys, os, glob\n",
    "import numpy as np\n",
    "import pandas as pd\n",
    "from utils_opt import readFlow\n",
    "\n",
    "import skimage.io as sio\n",
    "import matplotlib.pyplot as plt"
   ]
  },
  {
   "cell_type": "code",
   "execution_count": null,
   "metadata": {},
   "outputs": [],
   "source": [
    "import os\n",
    "#os.environ[\"XLA_PYTHON_CLIENT_PREALLOCATE\"] = \"false\"\n",
    "\n",
    "import jax\n",
    "#jax.config.update('jax_platform_name', 'cpu')\n",
    "\n",
    "import jax.numpy as jnp\n",
    "import fm_render\n",
    "\n",
    "render_jit = jax.jit(fm_render.render_func_idx_quattrans)\n",
    "render_jit_ray = jax.jit(fm_render.render_func_rays)\n",
    "jax_flow_rend = jax.jit(fm_render.render_func_idx_quattrans_flow)"
   ]
  },
  {
   "cell_type": "code",
   "execution_count": null,
   "metadata": {},
   "outputs": [],
   "source": [
    "dataset_dir = 'rvid/teddybear_34_1479_4753//'\n",
    "co3d_seq = os.path.split(dataset_dir.rstrip('/').lstrip('/'))[-1]\n",
    "output_folder = os.path.join('tmp_out',co3d_seq)\n",
    "NUM_MIXTURE = 40\n",
    "shape_scale = 1.8\n",
    "c_scale = 4.5\n",
    "f_scale = 210\n",
    "rand_sphere_size = 55\n",
    "cov_scale = 1.2e-2\n",
    "weight_scale = 1.1\n",
    "LR_RATE = 0.08\n",
    "beta2 = 21.4\n",
    "beta3 = 2.66\n",
    "Nepoch = 10\n",
    "batch_size = 50000\n"
   ]
  },
  {
   "cell_type": "markdown",
   "metadata": {},
   "source": [
    "## Load Data"
   ]
  },
  {
   "cell_type": "code",
   "execution_count": null,
   "metadata": {},
   "outputs": [],
   "source": [
    "import gzip\n",
    "import pickle\n",
    "with gzip.open(os.path.join(dataset_dir,'pose_depth.pkl.gz'),'rb') as fp:\n",
    "    depth_and_pose = pickle.load(fp)\n",
    "\n",
    "true_depths = depth_and_pose['depths']\n",
    "fl = depth_and_pose['fl']\n",
    "poses = np.array(depth_and_pose['poses'])\n"
   ]
  },
  {
   "cell_type": "code",
   "execution_count": null,
   "metadata": {},
   "outputs": [],
   "source": [
    "masks_folder = os.path.join(dataset_dir,'masks','video1')\n",
    "in_files = sorted(glob.glob(masks_folder + '/*.png'))\n",
    "\n",
    "masks = []\n",
    "for img_loc in in_files:\n",
    "    mask = sio.imread(img_loc)\n",
    "    mask = (mask > 0).astype(np.float32)\n",
    "    masks.append(mask)\n",
    "masks = np.array(masks)\n",
    "PY,PX = mask.shape\n",
    "image_size = (PY,PX)"
   ]
  },
  {
   "cell_type": "code",
   "execution_count": null,
   "metadata": {},
   "outputs": [],
   "source": [
    "masks_folder = os.path.join(dataset_dir,'JPEGImages','video1')\n",
    "in_files = sorted(glob.glob(masks_folder + '/*.jpg'))\n",
    "\n",
    "images = []\n",
    "for img_loc in in_files:\n",
    "    img = sio.imread(img_loc).astype(np.float32)\n",
    "    images.append(img)\n",
    "images = np.array(images)"
   ]
  },
  {
   "cell_type": "code",
   "execution_count": null,
   "metadata": {},
   "outputs": [],
   "source": [
    "fwd_flows = []\n",
    "bwd_flows = []\n",
    "\n",
    "flow_fol = os.path.join(dataset_dir,'Flow','video1','*.flo')\n",
    "\n",
    "flow_files = sorted(glob.glob(flow_fol))\n",
    "\n",
    "for flfile in flow_files:\n",
    "    new_flow = readFlow(flfile)\n",
    "    if PY > PX:\n",
    "        new_flow = np.stack([new_flow[:,:,1],new_flow[:,:,0]],axis=2)\n",
    "    if 'bwd' in flfile:\n",
    "        bwd_flows.append(new_flow)\n",
    "    else:\n",
    "        fwd_flows.append(new_flow)\n",
    "\n",
    "\n",
    "# last flow has no fowards\n",
    "fwd_flows = fwd_flows + [new_flow*0]\n",
    "# first flow has no backwards\n",
    "bwd_flows = [new_flow*0] + bwd_flows"
   ]
  },
  {
   "cell_type": "code",
   "execution_count": null,
   "metadata": {},
   "outputs": [],
   "source": [
    "if 'mesh' in depth_and_pose:\n",
    "    pt_cld = depth_and_pose['mesh'].vertices\n",
    "    import sklearn.mixture as mixture\n",
    "\n",
    "    idx2 = np.arange(pt_cld.shape[0])\n",
    "    np.random.shuffle(idx2)\n",
    "    clf = mixture.GaussianMixture(40)\n",
    "    clf.fit(pt_cld[idx2[:10000]])\n",
    "\n",
    "    pt_cld_shape_scale = float(pt_cld.std(0).mean())*3\n",
    "    center = pt_cld.mean(0)\n",
    "else:         \n",
    "    pt_cld_shape_scale = 3.0\n",
    "    center = np.zeros(3,dtype=np.float32)"
   ]
  },
  {
   "cell_type": "code",
   "execution_count": null,
   "metadata": {},
   "outputs": [],
   "source": [
    "SCALE_MUL_FACTOR = shape_scale/pt_cld_shape_scale\n",
    "SCALE_MUL_FACTOR"
   ]
  },
  {
   "cell_type": "code",
   "execution_count": null,
   "metadata": {},
   "outputs": [],
   "source": [
    "img_shape = (PY,PX)\n",
    "min_size_idx = np.argmin(img_shape)\n",
    "min_size = img_shape[min_size_idx]\n",
    "max_size = img_shape[1-min_size_idx]\n",
    "invF = 0.5*min_size/fl\n",
    "min_dim = np.linspace(-1,1,min_size)\n",
    "aspect = max_size/min_size\n",
    "max_dim = np.linspace(-aspect,aspect,max_size)\n",
    "grid = [-max_dim,-min_dim,1,0] if min_size_idx == 0 else [-min_dim,-max_dim,1,0]\n",
    "pixel_list = np.transpose(np.squeeze(np.meshgrid(*grid,indexing='ij')),(2,1,0))\n",
    "\n",
    "pixel_list = pixel_list.reshape((-1,4))"
   ]
  },
  {
   "cell_type": "code",
   "execution_count": null,
   "metadata": {},
   "outputs": [],
   "source": [
    "poses = jnp.array(poses)"
   ]
  },
  {
   "cell_type": "code",
   "execution_count": null,
   "metadata": {},
   "outputs": [],
   "source": [
    "from util import image_grid"
   ]
  },
  {
   "cell_type": "code",
   "execution_count": null,
   "metadata": {},
   "outputs": [],
   "source": [
    "# random init settings\n",
    "rand_mean = center+pt_cld_shape_scale*np.random.multivariate_normal(mean=[0,0,0],cov=cov_scale*np.identity(3),size=NUM_MIXTURE)\n",
    "rand_weight_log = jnp.log(weight_scale*np.ones(NUM_MIXTURE)/NUM_MIXTURE)\n",
    "rand_prec = jnp.array([np.identity(3)*rand_sphere_size/pt_cld_shape_scale for _ in range(NUM_MIXTURE)])\n",
    "rand_color = jnp.array(np.random.randn(NUM_MIXTURE,3))\n",
    "\n",
    "init_alphas = []\n",
    "for i in range(min(36,len(poses))):\n",
    "    pixel_list[:,3] = i\n",
    "    res_img,est_alpha,_,_ = render_jit(rand_mean,rand_prec,rand_weight_log,pixel_list,invF,poses,beta2/pt_cld_shape_scale,beta3)\n",
    "\n",
    "    res_imgA = np.array(res_img)\n",
    "    res_imgA[est_alpha < 0.5] = np.nan\n",
    "    init_alphas.append(est_alpha.reshape((PY,PX)))\n",
    "image_grid(init_alphas,6,6,rgb=False)"
   ]
  },
  {
   "cell_type": "code",
   "execution_count": null,
   "metadata": {},
   "outputs": [],
   "source": [
    "total_ray_set = []\n",
    "for i in range(len(poses)):\n",
    "    pixel_list[:,3] = i\n",
    "\n",
    "    total_ray_set.append(pixel_list.copy())\n",
    "all_rays = jnp.vstack(total_ray_set)"
   ]
  },
  {
   "cell_type": "code",
   "execution_count": null,
   "metadata": {},
   "outputs": [],
   "source": [
    "# scaled into ray coord space, vectorized flows\n",
    "fwv_flow = jnp.array(np.array(fwd_flows).reshape((-1,2)))/(min_size/2)\n",
    "bwv_flow = jnp.array(np.array(bwd_flows).reshape((-1,2)))/(min_size/2)"
   ]
  },
  {
   "cell_type": "code",
   "execution_count": null,
   "metadata": {},
   "outputs": [],
   "source": [
    "last_img_size = np.prod(img_shape)\n",
    "v_idx = 40"
   ]
  },
  {
   "cell_type": "code",
   "execution_count": null,
   "metadata": {},
   "outputs": [],
   "source": [
    "def objective(params,camera_rays,invF,poses,beta2,beta3,true_alpha,true_fwd,true_bwd,true_color):\n",
    "    CLIP_ALPHA = 1e-6\n",
    "    means,prec,weights_log,colors = params\n",
    "    est_depth, est_alpha, est_norm, est_w,flowp,flowm = fm_render.render_func_idx_quattrans_flow(means,prec,weights_log,camera_rays,invF,poses,beta2,beta3)\n",
    "    est_color = est_w.T @ (jnp.tanh(colors)*0.5+0.5)\n",
    "    est_alpha = jnp.clip(est_alpha,CLIP_ALPHA,1-CLIP_ALPHA)\n",
    "    mask_loss = - ((true_alpha * jnp.log(est_alpha)) + (1-true_alpha)*jnp.log(1-est_alpha))\n",
    "    pad_alpha = true_alpha[:,None]\n",
    "    flow1 = jnp.abs(pad_alpha*true_fwd-pad_alpha*flowp)\n",
    "    flow2 = jnp.abs(pad_alpha*true_bwd-pad_alpha*flowm)\n",
    "    cdiff = jnp.abs( (true_color-est_color)*true_alpha[:,None] )\n",
    "    return mask_loss.mean() + c_scale*cdiff.mean() + f_scale*(flow1.mean() + flow2.mean()) \n",
    "grad_render3 = jax.value_and_grad(objective)"
   ]
  },
  {
   "cell_type": "code",
   "execution_count": null,
   "metadata": {},
   "outputs": [],
   "source": [
    "import optax\n",
    "from tqdm.notebook import tqdm\n",
    "from util import DegradeLR\n",
    "\n",
    "vecM = jnp.array([1,1,1,1,SCALE_MUL_FACTOR,SCALE_MUL_FACTOR,SCALE_MUL_FACTOR])[None]\n",
    "\n",
    "train_size = all_rays.shape[0]\n",
    "Niter_epoch = int(round(train_size/batch_size))\n",
    "\n",
    "def irc(x): return int(round(x))\n",
    "\n",
    "# babysit learning rates\n",
    "adjust_lr = DegradeLR(LR_RATE,0.5,irc(Niter_epoch*0.25),irc(Niter_epoch*0.1),-1e-4)\n",
    "\n",
    "optimizer = optax.adam(adjust_lr.step_func)\n",
    "\n",
    "tmp = [rand_mean,rand_prec,rand_weight_log,rand_color]\n",
    "#tmp = [means,prec,weights_log]\n",
    "\n",
    "opt_state = optimizer.init(tmp)\n",
    "\n",
    "all_sils = jnp.hstack([_.ravel() for _ in masks]).astype(jnp.float32)\n",
    "all_colors = jnp.hstack([_.ravel()/255.0 for _ in images]).astype(jnp.float32).reshape((-1,3))\n",
    "all_colors = all_colors**(1/2.2)\n",
    "\n",
    "losses = []\n",
    "opt_configs = []\n",
    "outer_loop = tqdm(range(Nepoch), desc=\" epoch\", position=0)\n",
    "\n",
    "rand_idx = np.arange(train_size)\n",
    "params = tmp\n",
    "def inner_iter(j_idx,rand_idx_local,opt_state,p):\n",
    "    idx = jax.lax.dynamic_slice(rand_idx_local,[j_idx*batch_size],[batch_size])\n",
    "\n",
    "    val,g = grad_render3([p[0]*SCALE_MUL_FACTOR,p[1]/SCALE_MUL_FACTOR,p[2],p[3]],all_rays[idx],invF,vecM*poses,\n",
    "                         beta2/(shape_scale),beta3,all_sils[idx],fwv_flow[idx],bwv_flow[idx],all_colors[idx])   \n",
    "    updates, opt_state = optimizer.update(g, opt_state,p)\n",
    "    p = optax.apply_updates(p, updates)\n",
    "    return val, opt_state, p \n",
    "jax_iter = jax.jit(inner_iter)\n",
    "done = False\n",
    "for i in outer_loop:\n",
    "    np.random.shuffle(rand_idx)\n",
    "    rand_idx_jnp = jnp.array(rand_idx)\n",
    "\n",
    "    for j in tqdm(range(Niter_epoch), desc=\" iteration\", position=1, leave=False):\n",
    "        opt_configs.append(list(params))\n",
    "        val,opt_state,params = jax_iter(j,rand_idx_jnp,opt_state,params)\n",
    "        val = float(val)\n",
    "        losses.append(val)\n",
    "\n",
    "        if adjust_lr.add(val):\n",
    "            done = True\n",
    "            break\n",
    "        outer_loop.set_description(\" loss {:.3f}\".format(val))\n",
    "    if done:\n",
    "        break"
   ]
  },
  {
   "cell_type": "code",
   "execution_count": null,
   "metadata": {},
   "outputs": [],
   "source": [
    "plt.plot(losses)"
   ]
  },
  {
   "cell_type": "code",
   "execution_count": null,
   "metadata": {},
   "outputs": [],
   "source": [
    "final_mean, final_prec, final_weight_log,final_color = params"
   ]
  },
  {
   "cell_type": "code",
   "execution_count": null,
   "metadata": {},
   "outputs": [],
   "source": [
    "dump_out = {\n",
    "    'mean': np.array(final_mean),\n",
    "    'prec': np.array(final_prec),\n",
    "    'wlog': np.array(final_weight_log),\n",
    "    'color': np.array(final_color)\n",
    "}\n",
    "import pickle\n",
    "with open('output.pkl','wb') as fp:\n",
    "    pickle.dump(dump_out,fp)"
   ]
  },
  {
   "cell_type": "code",
   "execution_count": null,
   "metadata": {},
   "outputs": [],
   "source": [
    "result_depths = []\n",
    "result_alphas = []\n",
    "results_colors = []\n",
    "\n",
    "for i in range(len(poses)):\n",
    "    pixel_list[:,3] = i\n",
    "    res_img,est_alpha,_,w = render_jit(final_mean, final_prec, final_weight_log,pixel_list,invF,poses,beta2/pt_cld_shape_scale,beta3)\n",
    "    est_color = np.array(w.T @ (jnp.tanh(final_color)*0.5+0.5))**(2.2)\n",
    "\n",
    "    res_imgA = np.array(res_img)\n",
    "    est_alpha = np.array(est_alpha)\n",
    "    res_imgA[est_alpha < 0.5] = np.nan\n",
    "    est_color[est_alpha < 0.5] = np.nan\n",
    "\n",
    "    result_depths.append(res_imgA.reshape((PY,PX)))\n",
    "    result_alphas.append(est_alpha.reshape((PY,PX)))\n",
    "    results_colors.append(est_color.reshape((PY,PX,3)))"
   ]
  },
  {
   "cell_type": "code",
   "execution_count": null,
   "metadata": {},
   "outputs": [],
   "source": [
    "plt.subplot(1,3,1)\n",
    "plt.imshow(result_alphas[-1])\n",
    "plt.axis('off')\n",
    "\n",
    "plt.subplot(1,3,2)\n",
    "plt.imshow(result_depths[-1])\n",
    "plt.axis('off')\n",
    "plt.subplot(1,3,3)\n",
    "plt.imshow(est_color.reshape((PY,PX,3)),interpolation='nearest')\n",
    "plt.axis('off')\n"
   ]
  },
  {
   "cell_type": "code",
   "execution_count": null,
   "metadata": {},
   "outputs": [],
   "source": [
    "def per_gaussian_error(params,camera_rays,invF,poses,beta2,beta3,true_alpha,true_color,lower_std,upper_std):\n",
    "    CLIP_ALPHA = 1e-7\n",
    "    CLIP_ALPHA = 1e-6\n",
    "    means,prec,weights_log,colors = params\n",
    "    est_depth, est_alpha, est_norm, est_w =render_jit(means,prec,weights_log,camera_rays,invF,poses,beta2,beta3)\n",
    "    est_color = est_w.T @ (jnp.tanh(colors)*0.5+0.5)\n",
    "    est_alpha = jnp.clip(est_alpha,CLIP_ALPHA,1-CLIP_ALPHA)\n",
    "    mask_loss = - ((true_alpha * jnp.log(est_alpha)) + (1-true_alpha)*jnp.log(1-est_alpha))\n",
    "    cdiff = jnp.abs( (true_color-est_color)*true_alpha[:,None] )\n",
    "    \n",
    "    per_err = ((mask_loss*est_w).mean(axis=1) + c_scale*(cdiff.mean(axis=1) * est_w).mean(axis=1) )\n",
    "    avg_w = est_w.mean(axis=1)\n",
    "    keep_idx = (avg_w > (avg_w.mean() - lower_std*avg_w.std()))\n",
    "    split_idx = (per_err >= (per_err.mean() + upper_std*per_err.std()))\n",
    "    c_var =     (true_color[:,None,:] *est_w.T[:,:,None]).std(axis=0)\n",
    "    return split_idx, keep_idx, c_var\n",
    "\n",
    "def get_split_gaussian(params,camera_rays,invF,poses,beta2,beta3,true_alpha,true_color,lower_std,upper_std):\n",
    "    split_idx,keep_idx,c_var = per_gaussian_error(params,camera_rays,invF,poses,beta2,beta3,true_alpha,true_color,lower_std,upper_std)\n",
    "    t_keep_idx = keep_idx & (~split_idx)\n",
    "\n",
    "    means,prec,weights_log,colors = params\n",
    "\n",
    "    new_means, new_prec, new_weights, new_colors = [],[],[], []\n",
    "    for i in np.where(np.array(split_idx))[0]:\n",
    "        mu, preco, wlog, col = means[i], prec[i], weights_log[i], colors[i]\n",
    "        covar = np.linalg.pinv(preco.T @ preco)\n",
    "        u,s,vt = np.linalg.svd(covar)\n",
    "        s2 = s.copy()\n",
    "        s2[0] = s2[0] * np.sqrt(1-2/np.pi)\n",
    "        covar2 = u@np.diag(s2)@vt\n",
    "        m1 = mu + (u[0] * np.sqrt(s[0]) * np.sqrt(2/np.pi))\n",
    "        m2 = mu - (u[0] * np.sqrt(s[0]) * np.sqrt(2/np.pi))\n",
    "        precn = np.linalg.cholesky(np.linalg.pinv(covar2)).T\n",
    "\n",
    "        new_means.append(m1)\n",
    "        new_means.append(m2)\n",
    "        new_prec.append(precn)\n",
    "        new_prec.append(precn)\n",
    "        new_weights.append(wlog+ 0.1*np.random.randn())\n",
    "        new_weights.append(wlog+ 0.1*np.random.randn())\n",
    "        new_colors.append(col + 0.1*np.random.randn(3))\n",
    "        new_colors.append(col + 0.1*np.random.randn(3))\n",
    "        oldp = [np.array(_)[t_keep_idx] for _ in params]\n",
    "        m2 = np.vstack([oldp[0],new_means])\n",
    "        p2 = np.vstack([oldp[1],new_prec])\n",
    "        w2 = np.hstack([oldp[2],new_weights])\n",
    "        c2 = np.vstack([oldp[3],new_colors])\n",
    "    return [jnp.array(_).astype(jnp.float32) for _ in [m2,p2,w2,c2]]\n",
    "idx =rand_idx_jnp[:10*batch_size]               \n",
    "params2 = get_split_gaussian(params,all_rays[idx],invF,vecM*poses,beta2/(shape_scale),beta3,all_sils[idx],all_colors[idx],2,1)\n",
    "print(params2[0].shape)"
   ]
  },
  {
   "cell_type": "code",
   "execution_count": null,
   "metadata": {},
   "outputs": [],
   "source": [
    "from scipy.stats import trim_mean\n",
    "errs = []\n",
    "d1f = np.hstack([_.ravel() for _ in  true_depths]).ravel()\n",
    "d2f = np.hstack([_.ravel() for _ in result_depths]).ravel()\n",
    "\n",
    "mask = (all_sils !=0 ) & (~np.isnan(d1f)) & (~np.isnan(d2f)) & (d1f !=0) \n",
    "\n",
    "trim_mean(abs(d1f[mask]-d2f[mask]),0.1)"
   ]
  },
  {
   "cell_type": "code",
   "execution_count": null,
   "metadata": {},
   "outputs": [],
   "source": [
    "image_grid(masks,rows=3,cols=5,rgb=False)"
   ]
  },
  {
   "cell_type": "code",
   "execution_count": null,
   "metadata": {},
   "outputs": [],
   "source": [
    "max_frame = len(poses)\n",
    "FWD_BCK_TIMES = 4\n",
    "THRESH_IDX = np.where(np.array(losses)/min(losses) < 1.02)[0][0]\n",
    "USE_FIRST_N_FRAC = THRESH_IDX/len(losses)\n",
    "N_FRAMES = max_frame*FWD_BCK_TIMES\n",
    "opt_to_use = np.round(np.linspace(0,int(np.floor(len(opt_configs)*USE_FIRST_N_FRAC-1)),N_FRAMES)).astype(int)\n",
    "loss_v = np.log(losses)\n",
    "loss_v -= loss_v.min()\n",
    "loss_v /= loss_v.max()\n",
    "loss_v = np.cumsum(loss_v)\n",
    "loss_v -= loss_v.min()\n",
    "loss_v /= loss_v.max()\n",
    "tv = np.stack([N_FRAMES*loss_v,(len(opt_configs)-1)*np.linspace(0,1,len(losses))]).T\n",
    "#plt.plot(tv[:,0],tv[:,1])\n",
    "#opt_to_use = np.round(np.interp(np.arange(N_FRAMES),tv[:,0],tv[:,1])).astype(int)"
   ]
  },
  {
   "cell_type": "code",
   "execution_count": null,
   "metadata": {},
   "outputs": [],
   "source": [
    "THRESH_IDX/len(losses)"
   ]
  },
  {
   "cell_type": "code",
   "execution_count": null,
   "metadata": {},
   "outputs": [],
   "source": [
    "plt.plot(losses[:THRESH_IDX])"
   ]
  },
  {
   "cell_type": "code",
   "execution_count": null,
   "metadata": {},
   "outputs": [],
   "source": [
    "len(opt_configs)"
   ]
  },
  {
   "cell_type": "code",
   "execution_count": null,
   "metadata": {},
   "outputs": [],
   "source": [
    "if os.path.exists(output_folder):\n",
    "    import shutil\n",
    "    shutil.rmtree(output_folder)\n",
    "os.makedirs(output_folder, exist_ok=True)"
   ]
  },
  {
   "cell_type": "code",
   "execution_count": null,
   "metadata": {},
   "outputs": [],
   "source": [
    "frame_idxs = []\n",
    "frame_list = list(range(max_frame))\n",
    "for i in range(FWD_BCK_TIMES):\n",
    "    if (i % 2) == 0:\n",
    "        frame_idxs += frame_list\n",
    "    else:\n",
    "        frame_idxs += frame_list[::-1]"
   ]
  },
  {
   "cell_type": "code",
   "execution_count": null,
   "metadata": {},
   "outputs": [],
   "source": [
    "full_res_alpha = []\n",
    "full_res_depth = []\n",
    "full_res_color = []\n",
    "\n",
    "for r_idx,c_idx in zip(frame_idxs,opt_to_use):\n",
    "    p = opt_configs[c_idx]\n",
    "\n",
    "    pixel_list[:,3] = r_idx\n",
    "    est_depth,est_alpha,_,w = render_jit(p[0],p[1],p[2],pixel_list,invF,poses,beta2/pt_cld_shape_scale,beta3)\n",
    "    est_color = (1-est_alpha[:,None])*0 + est_alpha[:,None] * np.array(w.T @ (jnp.tanh(p[3])*0.5+0.5))**(2.2)\n",
    "\n",
    "    est_alpha = np.array(est_alpha)\n",
    "    est_depth = np.array(est_depth)\n",
    "    est_depth[est_alpha < max(0.5,np.percentile(est_alpha,0.99))] = np.nan\n",
    "    #est_color[est_alpha < 0.5] = np.nan\n",
    "\n",
    "    full_res_alpha.append(est_alpha.reshape((PY,PX)))\n",
    "    full_res_depth.append(est_depth.reshape((PY,PX)))\n",
    "    full_res_color.append(est_color.reshape((PY,PX,3)))\n",
    "\n",
    "    print('.',end='')"
   ]
  },
  {
   "cell_type": "code",
   "execution_count": null,
   "metadata": {},
   "outputs": [],
   "source": [
    "vecr = np.hstack([_.ravel() for _ in full_res_depth])\n",
    "vecr = vecr[~np.isnan(vecr)]\n",
    "vmin = np.percentile(vecr,5)\n",
    "vmax = np.percentile(vecr,95)\n",
    "vscale = vmax-vmin"
   ]
  },
  {
   "cell_type": "code",
   "execution_count": null,
   "metadata": {},
   "outputs": [],
   "source": [
    "import matplotlib\n",
    "from PIL import Image, ImageDraw, ImageFont\n",
    "start_f = 0\n",
    "avg_size = np.array([PX,PY])\n",
    "fsize = irc(96/4)\n",
    "\n",
    "font = ImageFont.truetype('Roboto-Regular.ttf', size=irc(avg_size[0]/16))\n",
    "cmap = matplotlib.cm.get_cmap('viridis')\n",
    "cmap2 = matplotlib.cm.get_cmap('magma')\n",
    "\n",
    "for i,mask_res in enumerate(full_res_alpha):\n",
    "    r_idx = frame_idxs[i]\n",
    "    #img1 = ground_images[r_idx]/255.0*np.clip(full_masks[r_idx] > .1,0.3,1)[:,:,None]\n",
    "    #img2 = ground_images[r_idx]*np.clip((mask_res)**0.4,0.05,1)[:,:,None]\n",
    "    img2 = full_res_color[i]#np.tile(mask_res[:,:,None],(1,1,3))\n",
    "    img_gt_mask = np.tile(masks[r_idx][:,:,None],(1,1,3))\n",
    "\n",
    "    true_alpha = masks[r_idx]\n",
    "\n",
    "    est_alpha = jnp.clip(mask_res,1e-6,1-1e-6)\n",
    "    mask_loss = - ((true_alpha * jnp.log(est_alpha)) + (1-true_alpha)*jnp.log(1-est_alpha))\n",
    "    loss_viz = cmap2(0.25*mask_loss)[:,:,:3]\n",
    "\n",
    "    depth = cmap((full_res_depth[i]-vmin)/vscale)[:,:,:3]\n",
    "    img2 = np.concatenate((images[r_idx]/255.0,img_gt_mask,img2, depth), axis=1)\n",
    "    int_img = np.round(img2*255).astype(np.uint8)\n",
    "    pil_img = Image.fromarray(int_img)\n",
    "    d1 = ImageDraw.Draw(pil_img)\n",
    "    d1.text((avg_size[0]*1.1, irc(fsize*0.1)), \"Iteration: {:3d}\\nEpoch: {:.1f}\".format(opt_to_use[i],opt_to_use[i]/Niter_epoch), ha='center',font=font,fill=(180, 180, 180))\n",
    "    d1.text((avg_size[0]*1.3, irc(avg_size[1]-fsize*2.5)), \"Target Mask\", font=font,fill=(255, 255, 255),ha='center')\n",
    "    #d1.text((avg_size[0]*2.4, irc(avg_size[1]-fsize*1.5)), \"Loss\", font=font,fill=(255, 255, 255),ha='center',align='center')\n",
    "    d1.text((avg_size[0]*2.3, irc(avg_size[1]-fsize*3.5)), \"Estimated\\nColor\", font=font,fill=(255, 255, 255),ha='center',align='center')\n",
    "    d1.text((avg_size[0]*3.3, irc(avg_size[1]-fsize*3.5)), \"Estimated\\nDepth\", font=font,fill=(255, 255, 255),ha='center',align='center')\n",
    "\n",
    "    img3 = np.array(pil_img)\n",
    "    \n",
    "    \n",
    "    sio.imsave('{}/{:03d}.jpg'.format(output_folder,i),img3,quality=95)"
   ]
  },
  {
   "cell_type": "code",
   "execution_count": null,
   "metadata": {},
   "outputs": [],
   "source": [
    "plt.imshow(img3)"
   ]
  },
  {
   "cell_type": "code",
   "execution_count": null,
   "metadata": {},
   "outputs": [],
   "source": [
    "(avg_size[0]*1.3, irc(avg_size[1]-fsize*1.5)),avg_size"
   ]
  },
  {
   "cell_type": "code",
   "execution_count": null,
   "metadata": {},
   "outputs": [],
   "source": [
    "plt.figure(figsize=(18,8))\n",
    "plt.imshow(img3)\n",
    "plt.axis('off')"
   ]
  },
  {
   "cell_type": "code",
   "execution_count": null,
   "metadata": {},
   "outputs": [],
   "source": [
    "import subprocess\n",
    "if os.path.exists('{}.mp4'.format(output_folder)):\n",
    "    os.remove('{}.mp4'.format(output_folder))\n",
    "subprocess.call(' '.join(['/usr/bin/ffmpeg',\n",
    "                 '-framerate','60',\n",
    "                 '-i','{}/%03d.jpg'.format(output_folder),\n",
    "                 '-vf','\\\"pad=ceil(iw/2)*2:ceil(ih/2)*2\\\"',\n",
    "                 '-c:v','h264',\n",
    "                 '-pix_fmt','yuv420p',\n",
    "                 '{}.mp4'.format(output_folder)]),shell=True)"
   ]
  },
  {
   "cell_type": "code",
   "execution_count": null,
   "metadata": {},
   "outputs": [],
   "source": [
    "#raise"
   ]
  },
  {
   "cell_type": "code",
   "execution_count": null,
   "metadata": {},
   "outputs": [],
   "source": [
    "output_folder"
   ]
  },
  {
   "cell_type": "code",
   "execution_count": null,
   "metadata": {},
   "outputs": [],
   "source": [
    "p = opt_configs[-1]"
   ]
  },
  {
   "cell_type": "code",
   "execution_count": null,
   "metadata": {},
   "outputs": [],
   "source": [
    "base_idx = min(len(masks)-1,28)\n",
    "pixel_list[:,3] = base_idx\n",
    "est_depth,est_alpha,_,_,flowp,flowm = jax_flow_rend(p[0],p[1],p[2],pixel_list,invF,poses,beta2/pt_cld_shape_scale,beta3)\n",
    "\n",
    "flowp = (min_size/2)*np.array(flowp)\n",
    "flowm = (min_size/2)*np.array(flowm)\n",
    "flowp[est_alpha < 0.5] = np.nan\n",
    "flowm[est_alpha < 0.5] = np.nan"
   ]
  },
  {
   "cell_type": "code",
   "execution_count": null,
   "metadata": {},
   "outputs": [],
   "source": [
    "tmp_f = np.copy(fwd_flows[base_idx])\n",
    "tmp_f[est_alpha.reshape((PY,PX)) < 0.5] = np.nan\n",
    "\n",
    "plt.subplot(1,2,1)\n",
    "plt.imshow(tmp_f[:,:,0],vmin=-6,vmax=6,cmap='RdBu' )\n",
    "plt.axis('off')\n",
    "plt.colorbar()\n",
    "plt.subplot(1,2,2)\n",
    "plt.imshow(tmp_f[:,:,1],vmin=-6,vmax=6,cmap='RdBu' )\n",
    "plt.axis('off')\n",
    "\n",
    "plt.colorbar()\n",
    "\n",
    "plt.figure()\n",
    "plt.subplot(1,2,1)\n",
    "plt.imshow(flowp[:,0].reshape((PY,PX)),vmin=-6,vmax=6,cmap='RdBu' )\n",
    "plt.axis('off')\n",
    "plt.colorbar()\n",
    "plt.subplot(1,2,2)\n",
    "plt.imshow(flowp[:,1].reshape((PY,PX)),vmin=-6,vmax=6,cmap='RdBu' )\n",
    "plt.axis('off')\n",
    "plt.colorbar()"
   ]
  },
  {
   "cell_type": "code",
   "execution_count": null,
   "metadata": {},
   "outputs": [],
   "source": [
    "tmp_b = np.copy(bwd_flows[base_idx])\n",
    "tmp_b[est_alpha.reshape((PY,PX)) < 0.5] = np.nan\n",
    "\n",
    "plt.subplot(1,2,1)\n",
    "plt.imshow(tmp_b[:,:,0],vmin=-6,vmax=6,cmap='RdBu' )\n",
    "plt.axis('off')\n",
    "plt.colorbar()\n",
    "plt.subplot(1,2,2)\n",
    "plt.imshow(tmp_b[:,:,1],vmin=-6,vmax=6,cmap='RdBu' )\n",
    "plt.axis('off')\n",
    "\n",
    "plt.colorbar()\n",
    "\n",
    "plt.figure()\n",
    "plt.subplot(1,2,1)\n",
    "plt.imshow(flowm[:,0].reshape((PY,PX)),vmin=-6,vmax=6,cmap='RdBu' )\n",
    "plt.axis('off')\n",
    "plt.colorbar()\n",
    "plt.subplot(1,2,2)\n",
    "plt.imshow(flowm[:,1].reshape((PY,PX)),vmin=-6,vmax=6,cmap='RdBu' )\n",
    "plt.axis('off')\n",
    "plt.colorbar()"
   ]
  },
  {
   "cell_type": "code",
   "execution_count": null,
   "metadata": {},
   "outputs": [],
   "source": [
    "import zpfm_render\n",
    "render_jit2 = jax.jit(zpfm_render.render_func_idx_quattrans_flow)\n"
   ]
  },
  {
   "cell_type": "code",
   "execution_count": null,
   "metadata": {},
   "outputs": [],
   "source": [
    "points_export = []\n",
    "colors_export = []\n",
    "colors_export_plain = []\n",
    "\n",
    "normals_export = []\n",
    "\n",
    "scaleE = 2\n",
    "\n",
    "thesh_min = 0.9\n",
    "\n",
    "for i in range(len(poses)):\n",
    "    pixel_list[:,3] = i\n",
    "    rot_mats = jax.vmap(fm_render.quat_to_rot)(poses[:,:4])\n",
    "    def rot_ray_t(rayi):\n",
    "        ray = rayi[:3] * jnp.array([invF,invF,1])\n",
    "        pose_idx = rayi[3].astype(int)\n",
    "        return jnp.array([ray@rot_mats[pose_idx],poses[pose_idx][4:]])\n",
    "    camera_rays_start = jax.vmap(rot_ray_t)(pixel_list)\n",
    "    est_depth,est_alpha,est_norm,est_w,flowp,flowm = render_jit2(final_mean, final_prec*scaleE,(scaleE**2)*final_weight_log,pixel_list,invF,poses)\n",
    "\n",
    "    est_color = np.array(est_w.T @ (jnp.tanh(final_color)*0.5+0.5))**(2.2)\n",
    "    \n",
    "    # nneed RGBA\n",
    "    # or images[i] # #np.round(images[i])\n",
    "    export_c = np.round(np.clip(est_color,0,1)*255).astype(np.uint8)\n",
    "    alpha_c = (np.ones(export_c.shape[:-1])*255).astype(np.uint8)\n",
    "    export_c = np.hstack([export_c.reshape((-1,3)),alpha_c.reshape((-1,1))]).reshape((-1,4))\n",
    "    \n",
    "    export_c2 = np.round(images[i]).astype(np.uint8)\n",
    "    export_c2 = np.hstack([export_c2.reshape((-1,3)),alpha_c.reshape((-1,1))]).reshape((-1,4))\n",
    "    \n",
    "    est_3d = est_depth[:,None]*camera_rays_start[:,0]+camera_rays_start[:,1] \n",
    "    \n",
    "    est_3d = np.array(est_3d)\n",
    "    est_alpha = np.array(est_alpha)\n",
    "    \n",
    "    export_cond = (est_alpha > thesh_min) & (est_w.max(axis=0) > thesh_min)\n",
    "\n",
    "    points_export.append(est_3d[export_cond])\n",
    "    colors_export.append(export_c2[export_cond])\n",
    "    normals_export.append(est_norm[export_cond])\n",
    "    colors_export_plain.append(export_c[export_cond])\n",
    "    \n",
    "    \n",
    "points_export = np.concatenate(points_export)\n",
    "colors_export = np.concatenate(colors_export)\n",
    "colors_export_plain = np.concatenate(colors_export_plain)\n",
    "normals_export = np.concatenate(normals_export)"
   ]
  },
  {
   "cell_type": "code",
   "execution_count": null,
   "metadata": {},
   "outputs": [],
   "source": [
    "est_color.max()"
   ]
  },
  {
   "cell_type": "code",
   "execution_count": null,
   "metadata": {},
   "outputs": [],
   "source": [
    "import open3d as o3d\n",
    "o3d_cld = o3d.geometry.PointCloud(o3d.utility.Vector3dVector(points_export))\n",
    "o3d_cld.colors = o3d.utility.Vector3dVector(colors_export[:,:3].astype(float)/255.0)\n",
    "o3d_cld.normals = o3d.utility.Vector3dVector(normals_export)\n",
    "o3d.io.write_point_cloud(\"{}.ply\".format(output_folder), o3d_cld)\n",
    "\n",
    "o3d_cld.colors = o3d.utility.Vector3dVector(colors_export_plain[:,:3].astype(float)/255.0)\n",
    "o3d.io.write_point_cloud(\"{}_plain.ply\".format(output_folder), o3d_cld)"
   ]
  },
  {
   "cell_type": "code",
   "execution_count": null,
   "metadata": {},
   "outputs": [],
   "source": [
    "output_folder"
   ]
  },
  {
   "cell_type": "code",
   "execution_count": null,
   "metadata": {},
   "outputs": [],
   "source": [
    "result_depths2 = []\n",
    "result_alphas2 = []\n",
    "results_colors2 = []\n",
    "scaleE=1\n",
    "\n",
    "for i in range(len(poses)):\n",
    "    pixel_list[:,3] = i\n",
    "    est_depth,est_alpha,est_norm,est_w,flowp,flowm = render_jit2(final_mean, final_prec*scaleE,(scaleE**2)*final_weight_log,pixel_list,invF,poses)\n",
    "    est_color = np.array(w.T @ (jnp.tanh(final_color)*0.5+0.5))**(2.2)\n",
    "\n",
    "    est_depth = np.array(est_depth)\n",
    "    est_alpha = np.array(est_alpha)\n",
    "    est_depth[est_alpha < thesh_min] = np.nan\n",
    "    est_color[est_alpha < thesh_min] = np.nan\n",
    "\n",
    "    result_depths2.append(est_depth.reshape((PY,PX)))\n",
    "    result_alphas2.append(est_alpha.reshape((PY,PX)))\n",
    "    results_colors2.append(est_color.reshape((PY,PX,3)))\n",
    "    break"
   ]
  },
  {
   "cell_type": "code",
   "execution_count": null,
   "metadata": {},
   "outputs": [],
   "source": [
    "plt.imshow(est_w.T[:,6].reshape((PY,PX)))"
   ]
  },
  {
   "cell_type": "code",
   "execution_count": null,
   "metadata": {},
   "outputs": [],
   "source": [
    "plt.plot(est_w[:,est_w.shape[1]//2+100])\n",
    "plt.plot(est_w[:,0])\n"
   ]
  },
  {
   "cell_type": "code",
   "execution_count": null,
   "metadata": {},
   "outputs": [],
   "source": [
    "plt.imshow(result_alphas2[-1])"
   ]
  },
  {
   "cell_type": "code",
   "execution_count": null,
   "metadata": {},
   "outputs": [],
   "source": [
    "plt.imshow(result_depths2[-1])\n",
    "plt.colorbar()\n",
    "plt.figure()\n",
    "plt.imshow(result_depths[-1])\n",
    "plt.colorbar()"
   ]
  },
  {
   "cell_type": "code",
   "execution_count": null,
   "metadata": {},
   "outputs": [],
   "source": [
    "plt.imshow(results_colors2[-1])"
   ]
  },
  {
   "cell_type": "code",
   "execution_count": null,
   "metadata": {},
   "outputs": [],
   "source": [
    "import transforms3d\n",
    "Rr = transforms3d.quaternions.quat2mat(poses[0][:4])\n",
    "est_norm2 = -np.array(est_norm) @ Rr\n",
    "est_norm2[est_alpha < 0.25] = np.nan\n",
    "plt.imshow(est_norm2.reshape((image_size[0],image_size[1],3))*0.5+0.5)"
   ]
  },
  {
   "cell_type": "code",
   "execution_count": null,
   "metadata": {},
   "outputs": [],
   "source": [
    "from util import compute_normals\n",
    "est_norms3 = compute_normals(camera_rays_start[:,0,:],est_depth.reshape((PY,PX)))\n",
    "plt.imshow(est_norms3.reshape((image_size[0],image_size[1],3))*0.5+0.5)"
   ]
  }
 ],
 "metadata": {
  "language_info": {
   "name": "python"
  }
 },
 "nbformat": 4,
 "nbformat_minor": 5
}
